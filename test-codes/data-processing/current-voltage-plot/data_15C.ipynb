{
 "cells": [
  {
   "cell_type": "code",
   "execution_count": 2,
   "metadata": {},
   "outputs": [
    {
     "data": {
      "text/plain": [
       "0.0014733282792280045"
      ]
     },
     "execution_count": 2,
     "metadata": {},
     "output_type": "execute_result"
    }
   ],
   "source": [
    "# for Indium tin Oxide\n",
    "R = 68\n",
    "V = 5 * R / 1068\n",
    "I = V / R \n",
    "d = 3e-8 \n",
    "B = 0.5\n",
    "n = 3.31e26 \n",
    "e = 1.6e-19\n",
    "V_H = I * B / (n * e * d) \n",
    "V_H"
   ]
  },
  {
   "cell_type": "code",
   "execution_count": 6,
   "metadata": {},
   "outputs": [
    {
     "data": {
      "text/plain": [
       "0.0014733282792280045"
      ]
     },
     "execution_count": 6,
     "metadata": {},
     "output_type": "execute_result"
    }
   ],
   "source": [
    "# for Silicon\n",
    "R = 80000000\n",
    "V = 5 * R / 1068\n",
    "I = V / R\n",
    "d = 3e-8 \n",
    "B = 0.5\n",
    "n = 3.31e26 \n",
    "e = 1.6e-19\n",
    "V_H = I * B / (n * e * d) \n",
    "V_H"
   ]
  },
  {
   "cell_type": "code",
   "execution_count": 50,
   "metadata": {},
   "outputs": [
    {
     "data": {
      "image/png": "[encoded data removed]",
      "text/plain": [
       "<Figure size 432x288 with 1 Axes>"
      ]
     },
     "metadata": {
      "needs_background": "light"
     },
     "output_type": "display_data"
    }
   ],
   "source": [
    "import numpy as np\n",
    "import matplotlib.pyplot as plt\n",
    "import pandas as pd\n",
    "from scipy.stats import norm\n",
    "from scipy.optimize import curve_fit\n",
    "\n",
    "datapoints = pd.read_csv(\"IV_1.csv\")\n",
    "#voltage = datapoints[\"Time\"].tolist()\n",
    "#current = datapoints[\"Xnoise\"].tolist()\n",
    "voltage = np.array(datapoints[\"Voltage(mV)\"].tolist())\n",
    "current = datapoints[\"Current(nA)\"].tolist()\n",
    "\n",
    "\n",
    "def func(x, a, b):\n",
    "     return a * x + b\n",
    "\n",
    "xdata = voltage[0:11]\n",
    "ydata = current[0:11]\n",
    "\n",
    "popt, pcov = curve_fit(func, xdata, ydata)\n",
    "plt.plot(voltage, func(voltage, *popt), 'b--',\n",
    "         label='fit: a=%5.3f, b=%5.3f' % tuple(popt))\n",
    "\n",
    "plt.plot(voltage, current, 'r.')\n",
    "plt.xlabel(\"Voltage (mV)\")\n",
    "plt.ylabel(\"Current (nA)\")\n",
    "\n",
    "plt.legend()\n",
    "plt.show()"
   ]
  }
 ],
 "metadata": {
  "kernelspec": {
   "display_name": "Python 3",
   "language": "python",
   "name": "python3"
  },
  "language_info": {
   "codemirror_mode": {
    "name": "ipython",
    "version": 3
   },
   "file_extension": ".py",
   "mimetype": "text/x-python",
   "name": "python",
   "nbconvert_exporter": "python",
   "pygments_lexer": "ipython3",
   "version": "3.8.3"
  }
 },
 "nbformat": 4,
 "nbformat_minor": 5
}
